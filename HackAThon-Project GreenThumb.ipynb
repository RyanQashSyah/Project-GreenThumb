{
 "cells": [
  {
   "cell_type": "code",
   "execution_count": null,
   "metadata": {},
   "outputs": [],
   "source": [
    "import os\n",
    "import matplotlib.image as mping\n",
    "import matplotlib.pyplot as plt\n",
    "import numpy as np\n",
    "import pandas as pd\n",
    "from sklearn.model_selection import train_test_split\n",
    "from sklearn.neural_network import MLPClassifier\n",
    "from sklearn import metrics\n",
    "\n",
    "path = 'C:\\\\Users\\\\Ryan\\\\MachineLearning\\\\MakeItWright2019-HackAThon\\\\Project-GreenThumb\\\\Plants'\n",
    "\n",
    "#images and labels\n",
    "images = []\n",
    "labels = []\n",
    "\n",
    "#print(type(list))\n",
    "\n",
    "for folder_name in os.listdir(path):\n",
    "    #print(filename)\n",
    "    for file in os.listdir(path + '\\\\' + folder_name):\n",
    "        images.append(mping.imread(path + '\\\\' + folder_name + '\\\\' + file))\n",
    "        labels.append(folder_name)\n",
    "        \n",
    "x = np.asarray(images)\n",
    "y = np.asarray(labels)\n",
    "\n",
    "#Set test ratio and get training and testing sets\n",
    "test_ratio = 0.2\n",
    "x_train, x_test, y_train, y_test = train_test_split(x, y, test_size = test_ratio, shuffle = True, random_state = 1)\n",
    "\n"
   ]
  },
  {
   "cell_type": "code",
   "execution_count": null,
   "metadata": {},
   "outputs": [],
   "source": []
  }
 ],
 "metadata": {
  "kernelspec": {
   "display_name": "Python 3",
   "language": "python",
   "name": "python3"
  },
  "language_info": {
   "codemirror_mode": {
    "name": "ipython",
    "version": 3
   },
   "file_extension": ".py",
   "mimetype": "text/x-python",
   "name": "python",
   "nbconvert_exporter": "python",
   "pygments_lexer": "ipython3",
   "version": "3.7.1"
  }
 },
 "nbformat": 4,
 "nbformat_minor": 2
}
